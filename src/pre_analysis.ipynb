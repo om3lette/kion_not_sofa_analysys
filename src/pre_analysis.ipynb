{
 "cells": [
  {
   "cell_type": "code",
   "execution_count": 2,
   "id": "7115189a-6438-4399-a075-d3487bc2d471",
   "metadata": {},
   "outputs": [],
   "source": [
    "import pandas as pd\n",
    "import seaborn as sns\n",
    "import matplotlib.pyplot as plt\n",
    "import scipy.stats as stats\n",
    "from matplotlib.colors import LinearSegmentedColormap\n",
    "from collections import defaultdict\n",
    "import os"
   ]
  },
  {
   "cell_type": "code",
   "execution_count": 3,
   "id": "dd2389ff",
   "metadata": {},
   "outputs": [],
   "source": [
    "datasets_path: str ='../datasets/'"
   ]
  },
  {
   "cell_type": "code",
   "execution_count": 12,
   "id": "56c64fc2-fb46-4d10-b145-b354d487af22",
   "metadata": {},
   "outputs": [],
   "source": [
    "items: pd.DataFrame = pd.read_csv(f'{datasets_path}kion_dataset_items.csv')\n",
    "users: pd.DataFrame = pd.read_csv(f'{datasets_path}kion_dataset_users.csv')\n",
    "interactions: pd.DataFrame = pd.read_csv(f'{datasets_path}kion_dataset_interactions.csv')\n",
    "holidays = pd.read_excel(f'{datasets_path}days_off.xlsx')"
   ]
  },
  {
   "cell_type": "code",
   "execution_count": 13,
   "id": "c17134cd",
   "metadata": {},
   "outputs": [],
   "source": [
    "holidays['last_watch_dt'] = pd.to_datetime(holidays['last_watch_dt'], format = '%Y-%m-%d')\n",
    "all_df: pd.DataFrame = interactions.merge(users)\n",
    "all_df: pd.DataFrame = all_df.merge(items)\n",
    "all_df.index.rename('watch_id', inplace=True)\n",
    "all_df: pd.DataFrame = all_df.reset_index()\n",
    "all_df: pd.DataFrame = all_df.drop(columns = ['studios', 'Unnamed: 0', 'countries', 'directors', 'actors', 'description', 'keywords', 'watch_id', 'title_orig', 'for_kids'])\n",
    "items['genres_count'] = items['genres'].apply(lambda x: len(x.split(',')))\n",
    "all_df: pd.DataFrame = all_df[all_df['watched_pct'].isna() == False]"
   ]
  },
  {
   "cell_type": "code",
   "execution_count": 14,
   "id": "c4436425",
   "metadata": {},
   "outputs": [],
   "source": [
    "if not os.path.exists('./figures'):\n",
    "    os.mkdir('figures')"
   ]
  },
  {
   "cell_type": "code",
   "execution_count": 15,
   "id": "09db6399-ca69-4073-b4d3-feac9d0905e2",
   "metadata": {},
   "outputs": [],
   "source": [
    "all_df['last_watch_dt'] = pd.to_datetime(all_df['last_watch_dt'], format = '%Y-%m-%d')\n",
    "all_df['day_week'] = all_df['last_watch_dt'].dt.weekday"
   ]
  },
  {
   "cell_type": "code",
   "execution_count": 16,
   "id": "73708b5c-2403-401a-b436-b35b4f0058cc",
   "metadata": {},
   "outputs": [],
   "source": [
    "all_df: pd.DataFrame = all_df.merge(holidays)\n",
    "all_df: pd.DataFrame = all_df.drop(columns = ['Unnamed: 0'])\n",
    "all_df: pd.DataFrame = all_df[all_df['content_type'] == 'film']\n",
    "all_df['genres_count'] = all_df['genres'].apply(lambda x: len(x.split(',')))"
   ]
  },
  {
   "cell_type": "code",
   "execution_count": 10,
   "id": "a973b82e-8048-4b04-a72a-a2d0c8c210ae",
   "metadata": {},
   "outputs": [
    {
     "data": {
      "text/plain": [
       "1"
      ]
     },
     "execution_count": 10,
     "metadata": {},
     "output_type": "execute_result"
    }
   ],
   "source": [
    "items: pd.DataFrame = items[items['content_type'] == 'film']\n",
    "all_genres: list[str] = items['genres'].tolist()\n",
    "set_count_unique_genres: defaultdict[int, int] = defaultdict(int)\n",
    "for i in range(len(all_genres)):\n",
    "    film_genres_no_spaces: list[str] = all_genres[i].replace(\" \", \"\").split(',')\n",
    "    for j in film_genres_no_spaces:\n",
    "        set_count_unique_genres[j] += 1\n",
    "set_count_unique_genres.pop('фильмы')\n",
    "set_count_unique_genres.pop('сериалы')"
   ]
  },
  {
   "cell_type": "code",
   "execution_count": 18,
   "id": "0c0c4ba1-8c47-43f7-ad13-91cd4fe47a3b",
   "metadata": {},
   "outputs": [],
   "source": [
    "genres_support: dict = defaultdict(int)\n",
    "genres_multiple_entries: list[int] = items[items['genres_count'] > 1]['genres'].tolist()\n",
    "two_first_genres_count: dict = defaultdict(int)\n",
    "genres_to_skip: list[str] = ['фильмы', 'сериалы']\n",
    "\n",
    "for i in range(len(genres_multiple_entries)):\n",
    "    film_genres: list[str] = genres_multiple_entries[i].replace(\" \", \"\").split(',')\n",
    "\n",
    "    first_two_genres: list[str] = film_genres[:2]\n",
    "    first_two_genres_str: str = ' '.join(first_two_genres)\n",
    "\n",
    "    first_two_genres_reversed: list[str] = first_two_genres[::-1]\n",
    "    first_two_genres_reversed_str: str = ' '.join(first_two_genres_reversed)\n",
    "\n",
    "    if first_two_genres[0] in genres_to_skip or first_two_genres[1] in genres_to_skip:\n",
    "        continue\n",
    "\n",
    "    if first_two_genres_str in two_first_genres_count:\n",
    "        two_first_genres_count[first_two_genres_str] += 1\n",
    "    else:\n",
    "        two_first_genres_count[first_two_genres_reversed_str] += 1\n",
    "\n",
    "    genres_support[first_two_genres[0]] += 1\n",
    "    genres_support[first_two_genres[1]] += 1\n"
   ]
  },
  {
   "cell_type": "code",
   "execution_count": 10,
   "id": "846c5d60-560f-43fd-8105-0db557d28f6e",
   "metadata": {},
   "outputs": [],
   "source": [
    "table_lift = pd.DataFrame(columns = ['genre1', 'genre2', 'support1', 'support2', 'more_popular_genre', 'multiple_support', 'support_1_2', 'lift'])\n",
    "for key_one in genres_support.keys():\n",
    "    for key_two in genres_support.keys():\n",
    "        if key_one == key_two:\n",
    "            continue\n",
    "        genres: str = f'{key_one} {key_two}'\n",
    "        genres_reversed: str = f'{key_two} {key_one}'\n",
    "\n",
    "        support_multiple: int = genres_support[key_one] * genres_support[key_two]\n",
    "\n",
    "        number_of_entries: int = 0\n",
    "        found_in_genres_index: int = -1\n",
    "        \n",
    "        if genres in two_first_genres_count:\n",
    "            number_of_entries = two_first_genres_count[genres]\n",
    "            found_in_genres_index = 1\n",
    "        elif genres_reversed in two_first_genres_count:\n",
    "            number_of_entries = two_first_genres_count[genres_reversed]\n",
    "            found_in_genres_index = 2\n",
    "        \n",
    "        if found_in_genres_index == -1:\n",
    "            continue\n",
    "        \n",
    "        # determine which genre is the main one\n",
    "        correct_genres_order: str = key_one if set_count_unique_genres[key_one] > set_count_unique_genres[key_two] else key_two\n",
    "        line_to_add: list = []\n",
    "        if found_in_genres_index == 2:\n",
    "            line_to_add: list = [key_one, key_two, genres_support[key_one], genres_support[key_two], correct_genres_order, support_multiple, number_of_entries, number_of_entries / support_multiple]\n",
    "        else:\n",
    "            line_to_add: list = [key_two, key_one, genres_support[key_two], genres_support[key_one], correct_genres_order, support_multiple, number_of_entries, number_of_entries / support_multiple]\n",
    "        table_lift.loc[len(table_lift.index)] = line_to_add\n",
    "table_lift = table_lift.drop_duplicates()\n",
    "table_lift = table_lift.sort_values('lift', ascending = False)"
   ]
  },
  {
   "cell_type": "code",
   "execution_count": 11,
   "id": "69a8d4b7-7eb1-4159-a76e-6d2ff607c464",
   "metadata": {},
   "outputs": [
    {
     "data": {
      "text/html": [
       "<div>\n",
       "<style scoped>\n",
       "    .dataframe tbody tr th:only-of-type {\n",
       "        vertical-align: middle;\n",
       "    }\n",
       "\n",
       "    .dataframe tbody tr th {\n",
       "        vertical-align: top;\n",
       "    }\n",
       "\n",
       "    .dataframe thead th {\n",
       "        text-align: right;\n",
       "    }\n",
       "</style>\n",
       "<table border=\"1\" class=\"dataframe\">\n",
       "  <thead>\n",
       "    <tr style=\"text-align: right;\">\n",
       "      <th></th>\n",
       "      <th>genre1</th>\n",
       "      <th>genre2</th>\n",
       "      <th>support1</th>\n",
       "      <th>support2</th>\n",
       "      <th>more_popular_genre</th>\n",
       "      <th>multiple_support</th>\n",
       "      <th>support_1_2</th>\n",
       "      <th>lift</th>\n",
       "    </tr>\n",
       "  </thead>\n",
       "  <tbody>\n",
       "    <tr>\n",
       "      <th>56</th>\n",
       "      <td>хочувсёзнать</td>\n",
       "      <td>биография</td>\n",
       "      <td>3</td>\n",
       "      <td>312</td>\n",
       "      <td>биография</td>\n",
       "      <td>936</td>\n",
       "      <td>2</td>\n",
       "      <td>0.002137</td>\n",
       "    </tr>\n",
       "    <tr>\n",
       "      <th>476</th>\n",
       "      <td>длядетей</td>\n",
       "      <td>хочувсёзнать</td>\n",
       "      <td>260</td>\n",
       "      <td>3</td>\n",
       "      <td>длядетей</td>\n",
       "      <td>780</td>\n",
       "      <td>1</td>\n",
       "      <td>0.001282</td>\n",
       "    </tr>\n",
       "  </tbody>\n",
       "</table>\n",
       "</div>"
      ],
      "text/plain": [
       "           genre1        genre2  support1  support2 more_popular_genre  \\\n",
       "56   хочувсёзнать     биография         3       312          биография   \n",
       "476      длядетей  хочувсёзнать       260         3           длядетей   \n",
       "\n",
       "     multiple_support  support_1_2      lift  \n",
       "56                936            2  0.002137  \n",
       "476               780            1  0.001282  "
      ]
     },
     "execution_count": 11,
     "metadata": {},
     "output_type": "execute_result"
    }
   ],
   "source": [
    "table_lift[(table_lift['genre1'] == 'хочувсёзнать') | (table_lift['genre2'] == 'хочувсёзнать')]"
   ]
  },
  {
   "cell_type": "code",
   "execution_count": 12,
   "id": "899bc184-2278-4352-9f42-4454ec77f935",
   "metadata": {},
   "outputs": [
    {
     "data": {
      "text/plain": [
       "0.3302353473367644"
      ]
     },
     "execution_count": 12,
     "metadata": {},
     "output_type": "execute_result"
    }
   ],
   "source": [
    "all_df[all_df['day_off'] == 1]['total_dur'].sum() / all_df['total_dur'].sum()"
   ]
  },
  {
   "cell_type": "code",
   "execution_count": 13,
   "id": "c30a8e73-02da-4840-a258-ff0c2265522d",
   "metadata": {},
   "outputs": [
    {
     "data": {
      "text/plain": [
       "0.04031027557927903"
      ]
     },
     "execution_count": 13,
     "metadata": {},
     "output_type": "execute_result"
    }
   ],
   "source": [
    "all_df[all_df['holiday'] == 1]['total_dur'].sum() / all_df['total_dur'].sum()"
   ]
  },
  {
   "cell_type": "code",
   "execution_count": 14,
   "id": "23c27a81-f615-4d7e-87be-15900456ae55",
   "metadata": {},
   "outputs": [
    {
     "data": {
      "text/plain": [
       "0.3705456229160434"
      ]
     },
     "execution_count": 14,
     "metadata": {},
     "output_type": "execute_result"
    }
   ],
   "source": [
    "(all_df[all_df['day_off'] == 1]['total_dur'].sum() + all_df[all_df['holiday'] == 1]['total_dur'].sum()) / all_df['total_dur'].sum()"
   ]
  },
  {
   "cell_type": "code",
   "execution_count": 15,
   "id": "25a96e7e-de89-42fc-9f47-ba9e19f32ffb",
   "metadata": {},
   "outputs": [
    {
     "data": {
      "text/html": [
       "<div>\n",
       "<style scoped>\n",
       "    .dataframe tbody tr th:only-of-type {\n",
       "        vertical-align: middle;\n",
       "    }\n",
       "\n",
       "    .dataframe tbody tr th {\n",
       "        vertical-align: top;\n",
       "    }\n",
       "\n",
       "    .dataframe thead th {\n",
       "        text-align: right;\n",
       "    }\n",
       "</style>\n",
       "<table border=\"1\" class=\"dataframe\">\n",
       "  <thead>\n",
       "    <tr style=\"text-align: right;\">\n",
       "      <th></th>\n",
       "      <th>user_id</th>\n",
       "      <th>item_id</th>\n",
       "      <th>last_watch_dt</th>\n",
       "      <th>total_dur</th>\n",
       "      <th>watched_pct</th>\n",
       "      <th>age</th>\n",
       "      <th>income</th>\n",
       "      <th>sex</th>\n",
       "      <th>kids_flg</th>\n",
       "      <th>content_type</th>\n",
       "      <th>title</th>\n",
       "      <th>release_year</th>\n",
       "      <th>genres</th>\n",
       "      <th>age_rating</th>\n",
       "      <th>valid_from_dttm</th>\n",
       "      <th>rating_kp</th>\n",
       "      <th>day_week</th>\n",
       "      <th>day_off</th>\n",
       "      <th>holiday</th>\n",
       "      <th>genres_count</th>\n",
       "    </tr>\n",
       "  </thead>\n",
       "  <tbody>\n",
       "    <tr>\n",
       "      <th>17754</th>\n",
       "      <td>699317</td>\n",
       "      <td>9506</td>\n",
       "      <td>2021-05-01</td>\n",
       "      <td>5396</td>\n",
       "      <td>92.0</td>\n",
       "      <td>age_35_44</td>\n",
       "      <td>income_40_60</td>\n",
       "      <td>М</td>\n",
       "      <td>0</td>\n",
       "      <td>film</td>\n",
       "      <td>Холодное сердце</td>\n",
       "      <td>2013.0</td>\n",
       "      <td>фэнтези, мультфильм, музыкальные</td>\n",
       "      <td>0.0</td>\n",
       "      <td>2019-11-01 13:00:00</td>\n",
       "      <td>NaN</td>\n",
       "      <td>5</td>\n",
       "      <td>1</td>\n",
       "      <td>0</td>\n",
       "      <td>3</td>\n",
       "    </tr>\n",
       "    <tr>\n",
       "      <th>17755</th>\n",
       "      <td>1045343</td>\n",
       "      <td>9506</td>\n",
       "      <td>2021-05-01</td>\n",
       "      <td>6108</td>\n",
       "      <td>100.0</td>\n",
       "      <td>age_35_44</td>\n",
       "      <td>income_20_40</td>\n",
       "      <td>М</td>\n",
       "      <td>1</td>\n",
       "      <td>film</td>\n",
       "      <td>Холодное сердце</td>\n",
       "      <td>2013.0</td>\n",
       "      <td>фэнтези, мультфильм, музыкальные</td>\n",
       "      <td>0.0</td>\n",
       "      <td>2019-11-01 13:00:00</td>\n",
       "      <td>NaN</td>\n",
       "      <td>5</td>\n",
       "      <td>1</td>\n",
       "      <td>0</td>\n",
       "      <td>3</td>\n",
       "    </tr>\n",
       "    <tr>\n",
       "      <th>17756</th>\n",
       "      <td>18806</td>\n",
       "      <td>9506</td>\n",
       "      <td>2021-05-01</td>\n",
       "      <td>5401</td>\n",
       "      <td>92.0</td>\n",
       "      <td>age_25_34</td>\n",
       "      <td>income_40_60</td>\n",
       "      <td>Ж</td>\n",
       "      <td>1</td>\n",
       "      <td>film</td>\n",
       "      <td>Холодное сердце</td>\n",
       "      <td>2013.0</td>\n",
       "      <td>фэнтези, мультфильм, музыкальные</td>\n",
       "      <td>0.0</td>\n",
       "      <td>2019-11-01 13:00:00</td>\n",
       "      <td>NaN</td>\n",
       "      <td>5</td>\n",
       "      <td>1</td>\n",
       "      <td>0</td>\n",
       "      <td>3</td>\n",
       "    </tr>\n",
       "    <tr>\n",
       "      <th>17757</th>\n",
       "      <td>341136</td>\n",
       "      <td>9506</td>\n",
       "      <td>2021-05-01</td>\n",
       "      <td>5346</td>\n",
       "      <td>91.0</td>\n",
       "      <td>age_25_34</td>\n",
       "      <td>income_40_60</td>\n",
       "      <td>Ж</td>\n",
       "      <td>1</td>\n",
       "      <td>film</td>\n",
       "      <td>Холодное сердце</td>\n",
       "      <td>2013.0</td>\n",
       "      <td>фэнтези, мультфильм, музыкальные</td>\n",
       "      <td>0.0</td>\n",
       "      <td>2019-11-01 13:00:00</td>\n",
       "      <td>NaN</td>\n",
       "      <td>5</td>\n",
       "      <td>1</td>\n",
       "      <td>0</td>\n",
       "      <td>3</td>\n",
       "    </tr>\n",
       "    <tr>\n",
       "      <th>17758</th>\n",
       "      <td>483733</td>\n",
       "      <td>9506</td>\n",
       "      <td>2021-05-01</td>\n",
       "      <td>7422</td>\n",
       "      <td>100.0</td>\n",
       "      <td>age_25_34</td>\n",
       "      <td>income_20_40</td>\n",
       "      <td>Ж</td>\n",
       "      <td>0</td>\n",
       "      <td>film</td>\n",
       "      <td>Холодное сердце</td>\n",
       "      <td>2013.0</td>\n",
       "      <td>фэнтези, мультфильм, музыкальные</td>\n",
       "      <td>0.0</td>\n",
       "      <td>2019-11-01 13:00:00</td>\n",
       "      <td>NaN</td>\n",
       "      <td>5</td>\n",
       "      <td>1</td>\n",
       "      <td>0</td>\n",
       "      <td>3</td>\n",
       "    </tr>\n",
       "    <tr>\n",
       "      <th>...</th>\n",
       "      <td>...</td>\n",
       "      <td>...</td>\n",
       "      <td>...</td>\n",
       "      <td>...</td>\n",
       "      <td>...</td>\n",
       "      <td>...</td>\n",
       "      <td>...</td>\n",
       "      <td>...</td>\n",
       "      <td>...</td>\n",
       "      <td>...</td>\n",
       "      <td>...</td>\n",
       "      <td>...</td>\n",
       "      <td>...</td>\n",
       "      <td>...</td>\n",
       "      <td>...</td>\n",
       "      <td>...</td>\n",
       "      <td>...</td>\n",
       "      <td>...</td>\n",
       "      <td>...</td>\n",
       "      <td>...</td>\n",
       "    </tr>\n",
       "    <tr>\n",
       "      <th>4378960</th>\n",
       "      <td>969611</td>\n",
       "      <td>10390</td>\n",
       "      <td>2021-03-20</td>\n",
       "      <td>89</td>\n",
       "      <td>2.0</td>\n",
       "      <td>age_18_24</td>\n",
       "      <td>income_60_90</td>\n",
       "      <td>М</td>\n",
       "      <td>0</td>\n",
       "      <td>film</td>\n",
       "      <td>Родители лёгкого поведения (жестовым языком)</td>\n",
       "      <td>2019.0</td>\n",
       "      <td>зарубежные, комедии</td>\n",
       "      <td>18.0</td>\n",
       "      <td>2021-03-17 20:35:50</td>\n",
       "      <td>4.81</td>\n",
       "      <td>5</td>\n",
       "      <td>1</td>\n",
       "      <td>0</td>\n",
       "      <td>2</td>\n",
       "    </tr>\n",
       "    <tr>\n",
       "      <th>4378961</th>\n",
       "      <td>969611</td>\n",
       "      <td>6199</td>\n",
       "      <td>2021-03-20</td>\n",
       "      <td>64</td>\n",
       "      <td>1.0</td>\n",
       "      <td>age_18_24</td>\n",
       "      <td>income_60_90</td>\n",
       "      <td>М</td>\n",
       "      <td>0</td>\n",
       "      <td>film</td>\n",
       "      <td>Родители лёгкого поведения (с тифлокомментарием)</td>\n",
       "      <td>2019.0</td>\n",
       "      <td>зарубежные, комедии</td>\n",
       "      <td>18.0</td>\n",
       "      <td>2021-03-17 20:35:59</td>\n",
       "      <td>4.80</td>\n",
       "      <td>5</td>\n",
       "      <td>1</td>\n",
       "      <td>0</td>\n",
       "      <td>2</td>\n",
       "    </tr>\n",
       "    <tr>\n",
       "      <th>4378962</th>\n",
       "      <td>826970</td>\n",
       "      <td>9233</td>\n",
       "      <td>2021-03-20</td>\n",
       "      <td>4521</td>\n",
       "      <td>88.0</td>\n",
       "      <td>age_35_44</td>\n",
       "      <td>income_20_40</td>\n",
       "      <td>М</td>\n",
       "      <td>1</td>\n",
       "      <td>film</td>\n",
       "      <td>Ибица (с тифлокомментарием)</td>\n",
       "      <td>2019.0</td>\n",
       "      <td>зарубежные, комедии</td>\n",
       "      <td>16.0</td>\n",
       "      <td>2021-03-18 09:55:59</td>\n",
       "      <td>5.58</td>\n",
       "      <td>5</td>\n",
       "      <td>1</td>\n",
       "      <td>0</td>\n",
       "      <td>2</td>\n",
       "    </tr>\n",
       "    <tr>\n",
       "      <th>4378963</th>\n",
       "      <td>79675</td>\n",
       "      <td>5548</td>\n",
       "      <td>2021-03-20</td>\n",
       "      <td>591</td>\n",
       "      <td>12.0</td>\n",
       "      <td>age_65_inf</td>\n",
       "      <td>income_20_40</td>\n",
       "      <td>М</td>\n",
       "      <td>0</td>\n",
       "      <td>film</td>\n",
       "      <td>Путешествие в Италию</td>\n",
       "      <td>1954.0</td>\n",
       "      <td>драмы, зарубежные, мелодрамы</td>\n",
       "      <td>16.0</td>\n",
       "      <td>2019-10-13 15:41:46</td>\n",
       "      <td>7.10</td>\n",
       "      <td>5</td>\n",
       "      <td>1</td>\n",
       "      <td>0</td>\n",
       "      <td>3</td>\n",
       "    </tr>\n",
       "    <tr>\n",
       "      <th>4378965</th>\n",
       "      <td>154048</td>\n",
       "      <td>14434</td>\n",
       "      <td>2021-03-20</td>\n",
       "      <td>8</td>\n",
       "      <td>0.0</td>\n",
       "      <td>age_35_44</td>\n",
       "      <td>income_40_60</td>\n",
       "      <td>М</td>\n",
       "      <td>0</td>\n",
       "      <td>film</td>\n",
       "      <td>Чёрное море (жестовым языком)</td>\n",
       "      <td>2015.0</td>\n",
       "      <td>зарубежные, триллеры, приключения</td>\n",
       "      <td>16.0</td>\n",
       "      <td>2021-03-17 20:35:25</td>\n",
       "      <td>6.07</td>\n",
       "      <td>5</td>\n",
       "      <td>1</td>\n",
       "      <td>0</td>\n",
       "      <td>3</td>\n",
       "    </tr>\n",
       "  </tbody>\n",
       "</table>\n",
       "<p>1129579 rows × 20 columns</p>\n",
       "</div>"
      ],
      "text/plain": [
       "         user_id  item_id last_watch_dt  total_dur  watched_pct         age  \\\n",
       "17754     699317     9506    2021-05-01       5396         92.0   age_35_44   \n",
       "17755    1045343     9506    2021-05-01       6108        100.0   age_35_44   \n",
       "17756      18806     9506    2021-05-01       5401         92.0   age_25_34   \n",
       "17757     341136     9506    2021-05-01       5346         91.0   age_25_34   \n",
       "17758     483733     9506    2021-05-01       7422        100.0   age_25_34   \n",
       "...          ...      ...           ...        ...          ...         ...   \n",
       "4378960   969611    10390    2021-03-20         89          2.0   age_18_24   \n",
       "4378961   969611     6199    2021-03-20         64          1.0   age_18_24   \n",
       "4378962   826970     9233    2021-03-20       4521         88.0   age_35_44   \n",
       "4378963    79675     5548    2021-03-20        591         12.0  age_65_inf   \n",
       "4378965   154048    14434    2021-03-20          8          0.0   age_35_44   \n",
       "\n",
       "               income sex  kids_flg content_type  \\\n",
       "17754    income_40_60   М         0         film   \n",
       "17755    income_20_40   М         1         film   \n",
       "17756    income_40_60   Ж         1         film   \n",
       "17757    income_40_60   Ж         1         film   \n",
       "17758    income_20_40   Ж         0         film   \n",
       "...               ...  ..       ...          ...   \n",
       "4378960  income_60_90   М         0         film   \n",
       "4378961  income_60_90   М         0         film   \n",
       "4378962  income_20_40   М         1         film   \n",
       "4378963  income_20_40   М         0         film   \n",
       "4378965  income_40_60   М         0         film   \n",
       "\n",
       "                                                    title  release_year  \\\n",
       "17754                                     Холодное сердце        2013.0   \n",
       "17755                                     Холодное сердце        2013.0   \n",
       "17756                                     Холодное сердце        2013.0   \n",
       "17757                                     Холодное сердце        2013.0   \n",
       "17758                                     Холодное сердце        2013.0   \n",
       "...                                                   ...           ...   \n",
       "4378960      Родители лёгкого поведения (жестовым языком)        2019.0   \n",
       "4378961  Родители лёгкого поведения (с тифлокомментарием)        2019.0   \n",
       "4378962                       Ибица (с тифлокомментарием)        2019.0   \n",
       "4378963                              Путешествие в Италию        1954.0   \n",
       "4378965                     Чёрное море (жестовым языком)        2015.0   \n",
       "\n",
       "                                    genres  age_rating      valid_from_dttm  \\\n",
       "17754     фэнтези, мультфильм, музыкальные         0.0  2019-11-01 13:00:00   \n",
       "17755     фэнтези, мультфильм, музыкальные         0.0  2019-11-01 13:00:00   \n",
       "17756     фэнтези, мультфильм, музыкальные         0.0  2019-11-01 13:00:00   \n",
       "17757     фэнтези, мультфильм, музыкальные         0.0  2019-11-01 13:00:00   \n",
       "17758     фэнтези, мультфильм, музыкальные         0.0  2019-11-01 13:00:00   \n",
       "...                                    ...         ...                  ...   \n",
       "4378960                зарубежные, комедии        18.0  2021-03-17 20:35:50   \n",
       "4378961                зарубежные, комедии        18.0  2021-03-17 20:35:59   \n",
       "4378962                зарубежные, комедии        16.0  2021-03-18 09:55:59   \n",
       "4378963       драмы, зарубежные, мелодрамы        16.0  2019-10-13 15:41:46   \n",
       "4378965  зарубежные, триллеры, приключения        16.0  2021-03-17 20:35:25   \n",
       "\n",
       "         rating_kp  day_week  day_off  holiday  genres_count  \n",
       "17754          NaN         5        1        0             3  \n",
       "17755          NaN         5        1        0             3  \n",
       "17756          NaN         5        1        0             3  \n",
       "17757          NaN         5        1        0             3  \n",
       "17758          NaN         5        1        0             3  \n",
       "...            ...       ...      ...      ...           ...  \n",
       "4378960       4.81         5        1        0             2  \n",
       "4378961       4.80         5        1        0             2  \n",
       "4378962       5.58         5        1        0             2  \n",
       "4378963       7.10         5        1        0             3  \n",
       "4378965       6.07         5        1        0             3  \n",
       "\n",
       "[1129579 rows x 20 columns]"
      ]
     },
     "execution_count": 15,
     "metadata": {},
     "output_type": "execute_result"
    }
   ],
   "source": [
    "all_df[all_df['day_off'] == 1]"
   ]
  },
  {
   "cell_type": "code",
   "execution_count": 16,
   "id": "8581d9ea-269b-4e59-ad84-0c1f9f4254d0",
   "metadata": {},
   "outputs": [
    {
     "data": {
      "text/html": [
       "<div>\n",
       "<style scoped>\n",
       "    .dataframe tbody tr th:only-of-type {\n",
       "        vertical-align: middle;\n",
       "    }\n",
       "\n",
       "    .dataframe tbody tr th {\n",
       "        vertical-align: top;\n",
       "    }\n",
       "\n",
       "    .dataframe thead th {\n",
       "        text-align: right;\n",
       "    }\n",
       "</style>\n",
       "<table border=\"1\" class=\"dataframe\">\n",
       "  <thead>\n",
       "    <tr style=\"text-align: right;\">\n",
       "      <th></th>\n",
       "      <th>user_id</th>\n",
       "      <th>item_id</th>\n",
       "      <th>last_watch_dt</th>\n",
       "      <th>total_dur</th>\n",
       "      <th>watched_pct</th>\n",
       "      <th>age</th>\n",
       "      <th>income</th>\n",
       "      <th>sex</th>\n",
       "      <th>kids_flg</th>\n",
       "      <th>content_type</th>\n",
       "      <th>title</th>\n",
       "      <th>release_year</th>\n",
       "      <th>genres</th>\n",
       "      <th>age_rating</th>\n",
       "      <th>valid_from_dttm</th>\n",
       "      <th>rating_kp</th>\n",
       "      <th>day_week</th>\n",
       "      <th>day_off</th>\n",
       "      <th>holiday</th>\n",
       "      <th>genres_count</th>\n",
       "    </tr>\n",
       "  </thead>\n",
       "  <tbody>\n",
       "    <tr>\n",
       "      <th>56293</th>\n",
       "      <td>896751</td>\n",
       "      <td>9506</td>\n",
       "      <td>2021-05-03</td>\n",
       "      <td>5431</td>\n",
       "      <td>92.0</td>\n",
       "      <td>age_35_44</td>\n",
       "      <td>income_40_60</td>\n",
       "      <td>М</td>\n",
       "      <td>1</td>\n",
       "      <td>film</td>\n",
       "      <td>Холодное сердце</td>\n",
       "      <td>2013.0</td>\n",
       "      <td>фэнтези, мультфильм, музыкальные</td>\n",
       "      <td>0.0</td>\n",
       "      <td>2019-11-01 13:00:00</td>\n",
       "      <td>NaN</td>\n",
       "      <td>0</td>\n",
       "      <td>0</td>\n",
       "      <td>1</td>\n",
       "      <td>3</td>\n",
       "    </tr>\n",
       "    <tr>\n",
       "      <th>1244832</th>\n",
       "      <td>1097078</td>\n",
       "      <td>9506</td>\n",
       "      <td>2021-05-04</td>\n",
       "      <td>942</td>\n",
       "      <td>16.0</td>\n",
       "      <td>age_45_54</td>\n",
       "      <td>income_20_40</td>\n",
       "      <td>Ж</td>\n",
       "      <td>1</td>\n",
       "      <td>film</td>\n",
       "      <td>Холодное сердце</td>\n",
       "      <td>2013.0</td>\n",
       "      <td>фэнтези, мультфильм, музыкальные</td>\n",
       "      <td>0.0</td>\n",
       "      <td>2019-11-01 13:00:00</td>\n",
       "      <td>NaN</td>\n",
       "      <td>1</td>\n",
       "      <td>0</td>\n",
       "      <td>1</td>\n",
       "      <td>3</td>\n",
       "    </tr>\n",
       "    <tr>\n",
       "      <th>1303418</th>\n",
       "      <td>549089</td>\n",
       "      <td>9506</td>\n",
       "      <td>2021-05-06</td>\n",
       "      <td>5951</td>\n",
       "      <td>100.0</td>\n",
       "      <td>age_18_24</td>\n",
       "      <td>income_40_60</td>\n",
       "      <td>М</td>\n",
       "      <td>0</td>\n",
       "      <td>film</td>\n",
       "      <td>Холодное сердце</td>\n",
       "      <td>2013.0</td>\n",
       "      <td>фэнтези, мультфильм, музыкальные</td>\n",
       "      <td>0.0</td>\n",
       "      <td>2019-11-01 13:00:00</td>\n",
       "      <td>NaN</td>\n",
       "      <td>3</td>\n",
       "      <td>0</td>\n",
       "      <td>1</td>\n",
       "      <td>3</td>\n",
       "    </tr>\n",
       "    <tr>\n",
       "      <th>1556417</th>\n",
       "      <td>967506</td>\n",
       "      <td>9506</td>\n",
       "      <td>2021-05-07</td>\n",
       "      <td>7</td>\n",
       "      <td>0.0</td>\n",
       "      <td>NaN</td>\n",
       "      <td>NaN</td>\n",
       "      <td>NaN</td>\n",
       "      <td>0</td>\n",
       "      <td>film</td>\n",
       "      <td>Холодное сердце</td>\n",
       "      <td>2013.0</td>\n",
       "      <td>фэнтези, мультфильм, музыкальные</td>\n",
       "      <td>0.0</td>\n",
       "      <td>2019-11-01 13:00:00</td>\n",
       "      <td>NaN</td>\n",
       "      <td>4</td>\n",
       "      <td>0</td>\n",
       "      <td>1</td>\n",
       "      <td>3</td>\n",
       "    </tr>\n",
       "    <tr>\n",
       "      <th>2276861</th>\n",
       "      <td>910001</td>\n",
       "      <td>9506</td>\n",
       "      <td>2021-05-05</td>\n",
       "      <td>19</td>\n",
       "      <td>0.0</td>\n",
       "      <td>age_35_44</td>\n",
       "      <td>income_40_60</td>\n",
       "      <td>М</td>\n",
       "      <td>0</td>\n",
       "      <td>film</td>\n",
       "      <td>Холодное сердце</td>\n",
       "      <td>2013.0</td>\n",
       "      <td>фэнтези, мультфильм, музыкальные</td>\n",
       "      <td>0.0</td>\n",
       "      <td>2019-11-01 13:00:00</td>\n",
       "      <td>NaN</td>\n",
       "      <td>2</td>\n",
       "      <td>0</td>\n",
       "      <td>1</td>\n",
       "      <td>3</td>\n",
       "    </tr>\n",
       "    <tr>\n",
       "      <th>3921584</th>\n",
       "      <td>1051100</td>\n",
       "      <td>9506</td>\n",
       "      <td>2021-05-10</td>\n",
       "      <td>6969</td>\n",
       "      <td>100.0</td>\n",
       "      <td>age_18_24</td>\n",
       "      <td>income_40_60</td>\n",
       "      <td>Ж</td>\n",
       "      <td>0</td>\n",
       "      <td>film</td>\n",
       "      <td>Холодное сердце</td>\n",
       "      <td>2013.0</td>\n",
       "      <td>фэнтези, мультфильм, музыкальные</td>\n",
       "      <td>0.0</td>\n",
       "      <td>2019-11-01 13:00:00</td>\n",
       "      <td>NaN</td>\n",
       "      <td>0</td>\n",
       "      <td>0</td>\n",
       "      <td>1</td>\n",
       "      <td>3</td>\n",
       "    </tr>\n",
       "    <tr>\n",
       "      <th>4021254</th>\n",
       "      <td>1069949</td>\n",
       "      <td>9506</td>\n",
       "      <td>2021-06-14</td>\n",
       "      <td>617</td>\n",
       "      <td>10.0</td>\n",
       "      <td>age_25_34</td>\n",
       "      <td>income_20_40</td>\n",
       "      <td>М</td>\n",
       "      <td>1</td>\n",
       "      <td>film</td>\n",
       "      <td>Холодное сердце</td>\n",
       "      <td>2013.0</td>\n",
       "      <td>фэнтези, мультфильм, музыкальные</td>\n",
       "      <td>0.0</td>\n",
       "      <td>2019-11-01 13:00:00</td>\n",
       "      <td>NaN</td>\n",
       "      <td>0</td>\n",
       "      <td>0</td>\n",
       "      <td>1</td>\n",
       "      <td>3</td>\n",
       "    </tr>\n",
       "  </tbody>\n",
       "</table>\n",
       "</div>"
      ],
      "text/plain": [
       "         user_id  item_id last_watch_dt  total_dur  watched_pct        age  \\\n",
       "56293     896751     9506    2021-05-03       5431         92.0  age_35_44   \n",
       "1244832  1097078     9506    2021-05-04        942         16.0  age_45_54   \n",
       "1303418   549089     9506    2021-05-06       5951        100.0  age_18_24   \n",
       "1556417   967506     9506    2021-05-07          7          0.0        NaN   \n",
       "2276861   910001     9506    2021-05-05         19          0.0  age_35_44   \n",
       "3921584  1051100     9506    2021-05-10       6969        100.0  age_18_24   \n",
       "4021254  1069949     9506    2021-06-14        617         10.0  age_25_34   \n",
       "\n",
       "               income  sex  kids_flg content_type            title  \\\n",
       "56293    income_40_60    М         1         film  Холодное сердце   \n",
       "1244832  income_20_40    Ж         1         film  Холодное сердце   \n",
       "1303418  income_40_60    М         0         film  Холодное сердце   \n",
       "1556417           NaN  NaN         0         film  Холодное сердце   \n",
       "2276861  income_40_60    М         0         film  Холодное сердце   \n",
       "3921584  income_40_60    Ж         0         film  Холодное сердце   \n",
       "4021254  income_20_40    М         1         film  Холодное сердце   \n",
       "\n",
       "         release_year                            genres  age_rating  \\\n",
       "56293          2013.0  фэнтези, мультфильм, музыкальные         0.0   \n",
       "1244832        2013.0  фэнтези, мультфильм, музыкальные         0.0   \n",
       "1303418        2013.0  фэнтези, мультфильм, музыкальные         0.0   \n",
       "1556417        2013.0  фэнтези, мультфильм, музыкальные         0.0   \n",
       "2276861        2013.0  фэнтези, мультфильм, музыкальные         0.0   \n",
       "3921584        2013.0  фэнтези, мультфильм, музыкальные         0.0   \n",
       "4021254        2013.0  фэнтези, мультфильм, музыкальные         0.0   \n",
       "\n",
       "             valid_from_dttm  rating_kp  day_week  day_off  holiday  \\\n",
       "56293    2019-11-01 13:00:00        NaN         0        0        1   \n",
       "1244832  2019-11-01 13:00:00        NaN         1        0        1   \n",
       "1303418  2019-11-01 13:00:00        NaN         3        0        1   \n",
       "1556417  2019-11-01 13:00:00        NaN         4        0        1   \n",
       "2276861  2019-11-01 13:00:00        NaN         2        0        1   \n",
       "3921584  2019-11-01 13:00:00        NaN         0        0        1   \n",
       "4021254  2019-11-01 13:00:00        NaN         0        0        1   \n",
       "\n",
       "         genres_count  \n",
       "56293               3  \n",
       "1244832             3  \n",
       "1303418             3  \n",
       "1556417             3  \n",
       "2276861             3  \n",
       "3921584             3  \n",
       "4021254             3  "
      ]
     },
     "execution_count": 16,
     "metadata": {},
     "output_type": "execute_result"
    }
   ],
   "source": [
    "all_df[all_df['holiday'] == 1].drop_duplicates(subset='last_watch_dt')"
   ]
  },
  {
   "cell_type": "code",
   "execution_count": 17,
   "id": "ab24c66b-ecb8-4cf9-9ec4-942407a9dcd2",
   "metadata": {},
   "outputs": [
    {
     "data": {
      "text/plain": [
       "count     18104.000000\n",
       "mean       4665.536401\n",
       "std        8614.260089\n",
       "min           1.000000\n",
       "25%         370.000000\n",
       "50%        3040.000000\n",
       "75%        6739.000000\n",
       "max      360289.000000\n",
       "Name: total_dur, dtype: float64"
      ]
     },
     "execution_count": 17,
     "metadata": {},
     "output_type": "execute_result"
    }
   ],
   "source": [
    "all_df[all_df['last_watch_dt'] == '2021-05-03']['total_dur'].describe()"
   ]
  },
  {
   "cell_type": "code",
   "execution_count": 18,
   "id": "6e55c80a-555a-4a7b-af88-d0bf08a63c51",
   "metadata": {},
   "outputs": [
    {
     "data": {
      "text/plain": [
       "count    458876.000000\n",
       "mean       4537.250105\n",
       "std        9496.318743\n",
       "min           1.000000\n",
       "25%         385.000000\n",
       "50%        2641.000000\n",
       "75%        6468.000000\n",
       "max      910785.000000\n",
       "Name: total_dur, dtype: float64"
      ]
     },
     "execution_count": 18,
     "metadata": {},
     "output_type": "execute_result"
    }
   ],
   "source": [
    "all_df[all_df['day_week'] == 0]['total_dur'].describe()"
   ]
  },
  {
   "cell_type": "code",
   "execution_count": 19,
   "id": "5452817e-b794-4f46-a99c-1a63467c6ab9",
   "metadata": {},
   "outputs": [
    {
     "data": {
      "text/plain": [
       "Text(0.5, 1.0, 'Распределение watched_pct на первый майский праздник (понедельник)')"
      ]
     },
     "execution_count": 19,
     "metadata": {},
     "output_type": "execute_result"
    },
    {
     "data": {
      "image/png": "[encoded data removed]",
      "text/plain": [
       "<Figure size 640x480 with 1 Axes>"
      ]
     },
     "metadata": {},
     "output_type": "display_data"
    }
   ],
   "source": [
    "sns.histplot(all_df[all_df['last_watch_dt'] == '2021-05-03'], x=\"watched_pct\", bins=100, kde=True)\n",
    "plt.title(\"Распределение watched_pct на первый майский праздник (понедельник)\")"
   ]
  },
  {
   "cell_type": "code",
   "execution_count": 20,
   "id": "c050b020-d260-4031-a1ba-f43b098e49b2",
   "metadata": {},
   "outputs": [
    {
     "data": {
      "text/plain": [
       "Text(0.5, 1.0, 'Распределение watched_pct на Праздниках')"
      ]
     },
     "execution_count": 20,
     "metadata": {},
     "output_type": "execute_result"
    },
    {
     "data": {
      "image/png": "[encoded data removed]",
      "text/plain": [
       "<Figure size 640x480 with 1 Axes>"
      ]
     },
     "metadata": {},
     "output_type": "display_data"
    }
   ],
   "source": [
    "all_df_holiday = all_df[all_df['holiday'] == 1]\n",
    "sns.histplot(all_df_holiday, x=\"watched_pct\", bins=100, kde=True)\n",
    "plt.title(\"Распределение watched_pct на Праздниках\")"
   ]
  },
  {
   "cell_type": "code",
   "execution_count": 21,
   "id": "018d9574-74ba-4404-b316-a9bd569e0048",
   "metadata": {},
   "outputs": [
    {
     "data": {
      "text/plain": [
       "Text(0.5, 1.0, 'Распределение watched_pct на Выходных')"
      ]
     },
     "execution_count": 21,
     "metadata": {},
     "output_type": "execute_result"
    },
    {
     "data": {
      "image/png": "[encoded data removed]",
      "text/plain": [
       "<Figure size 640x480 with 1 Axes>"
      ]
     },
     "metadata": {},
     "output_type": "display_data"
    }
   ],
   "source": [
    "all_df_day_off = all_df[all_df['day_off'] == 1]\n",
    "sns.histplot(all_df_day_off, x = \"watched_pct\", bins=100, kde=True)\n",
    "plt.title(\"Распределение watched_pct на Выходных\")"
   ]
  },
  {
   "cell_type": "code",
   "execution_count": 22,
   "id": "c9581481-6852-4ad0-add3-210a11ceea2c",
   "metadata": {},
   "outputs": [
    {
     "data": {
      "text/plain": [
       "Text(0.5, 1.0, 'Распределение watched_pct по будням')"
      ]
     },
     "execution_count": 22,
     "metadata": {},
     "output_type": "execute_result"
    },
    {
     "data": {
      "image/png": "[encoded data removed]",
      "text/plain": [
       "<Figure size 640x480 with 1 Axes>"
      ]
     },
     "metadata": {},
     "output_type": "display_data"
    }
   ],
   "source": [
    "all_df_budni = all_df[(all_df['holiday'] == 0) & (all_df['day_off'] == 0)]\n",
    "sns.histplot(all_df_budni, x = \"watched_pct\", bins=100, kde=True)\n",
    "plt.title(\"Распределение watched_pct по будням\")"
   ]
  },
  {
   "cell_type": "code",
   "execution_count": 23,
   "id": "2c7c482d-d74f-45e2-813d-770ffe17dbe8",
   "metadata": {},
   "outputs": [
    {
     "data": {
      "text/plain": [
       "LeveneResult(statistic=270.392161599384, pvalue=9.378316331805237e-61)"
      ]
     },
     "execution_count": 23,
     "metadata": {},
     "output_type": "execute_result"
    }
   ],
   "source": [
    "stats.levene(all_df_budni['watched_pct'], all_df_day_off['watched_pct'], center='trimmed')"
   ]
  },
  {
   "cell_type": "code",
   "execution_count": 24,
   "id": "baea9e73-7c21-4fb9-ac56-b6d43d1c5a16",
   "metadata": {},
   "outputs": [
    {
     "data": {
      "text/plain": [
       "LeveneResult(statistic=1170.9254952543463, pvalue=1.499529810359732e-256)"
      ]
     },
     "execution_count": 24,
     "metadata": {},
     "output_type": "execute_result"
    }
   ],
   "source": [
    "stats.levene(all_df_budni['watched_pct'], all_df_holiday['watched_pct'], center='trimmed')"
   ]
  },
  {
   "cell_type": "code",
   "execution_count": 25,
   "id": "6f36005e-55d3-46ae-90a4-1c97fb1b85a7",
   "metadata": {},
   "outputs": [
    {
     "data": {
      "text/plain": [
       "LeveneResult(statistic=767.1272833886167, pvalue=8.631522822789115e-169)"
      ]
     },
     "execution_count": 25,
     "metadata": {},
     "output_type": "execute_result"
    }
   ],
   "source": [
    "stats.levene(all_df_day_off['watched_pct'], all_df_holiday['watched_pct'], center='trimmed')"
   ]
  },
  {
   "cell_type": "code",
   "execution_count": 26,
   "id": "a9273e4b-8e8b-4ecc-a812-47e9564f5ebb",
   "metadata": {},
   "outputs": [
    {
     "data": {
      "text/plain": [
       "LeveneResult(statistic=663.7929228621542, pvalue=6.029847005966967e-289)"
      ]
     },
     "execution_count": 26,
     "metadata": {},
     "output_type": "execute_result"
    }
   ],
   "source": [
    "stats.levene(all_df_day_off['watched_pct'], all_df_holiday['watched_pct'], all_df_budni['watched_pct'], center='trimmed')"
   ]
  },
  {
   "cell_type": "code",
   "execution_count": 27,
   "id": "bad78ed9-8a8d-48cb-9b13-e7510a915249",
   "metadata": {},
   "outputs": [
    {
     "data": {
      "text/plain": [
       "(11280, 20)"
      ]
     },
     "execution_count": 27,
     "metadata": {},
     "output_type": "execute_result"
    }
   ],
   "source": [
    "all_df.drop_duplicates(subset = 'item_id').shape"
   ]
  },
  {
   "cell_type": "code",
   "execution_count": 28,
   "id": "1b66ce3e-5f89-4722-a37a-37d0456be489",
   "metadata": {},
   "outputs": [
    {
     "data": {
      "text/plain": [
       "Text(0.5, 1.0, 'Корреляция численных признаков (фильмы)')"
      ]
     },
     "execution_count": 28,
     "metadata": {},
     "output_type": "execute_result"
    },
    {
     "data": {
      "image/png": "[encoded data removed]",
      "text/plain": [
       "<Figure size 640x480 with 2 Axes>"
      ]
     },
     "metadata": {},
     "output_type": "display_data"
    }
   ],
   "source": [
    "all_df_coll: pd.DataFrame = pd.DataFrame(all_df, columns = ['total_dur', 'watched_pct', 'rating_kp', 'release_year', 'age_rating', 'day_week', 'day_off', 'holiday'])\n",
    "sns.heatmap(all_df_coll.corr(), annot = True, cmap = LinearSegmentedColormap.from_list('custom', ['#C58AAD', '#A64D79', '#E06666']), fmt = \".2f\")\n",
    "plt.title(\"Корреляция численных признаков (фильмы)\")"
   ]
  },
  {
   "cell_type": "code",
   "execution_count": 30,
   "id": "ca431f91",
   "metadata": {},
   "outputs": [
    {
     "name": "stdout",
     "output_type": "stream",
     "text": [
      "0 - (458876, 20), length (days): 24097.629386574074\n",
      "1 - (454042, 20), length (days): 22940.408333333333\n",
      "2 - (451963, 20), length (days): 22721.030694444446\n",
      "3 - (458317, 20), length (days): 22983.801377314816\n",
      "4 - (480613, 20), length (days): 24163.246064814815\n",
      "5 - (550004, 20), length (days): 27660.39238425926\n",
      "6 - (579575, 20), length (days): 29981.54440972222\n"
     ]
    }
   ],
   "source": [
    "def filter_by_date(data: pd.DataFrame, index: int) -> pd.DataFrame:\n",
    "    return data[data['day_week'] == index]\n",
    "\n",
    "index_to_day: dict[int, str] = {0: 'Понедельник', 1: 'Втоник', 2: 'Среда', 3: 'Четверг', 4: 'Пятница', 5: 'Суббота', 6: 'Воскресенье'}\n",
    "all_df_by_day: dict[int, pd.DataFrame] = {i: filter_by_date(all_df, i) for i in range(7)}\n",
    "\n",
    "for key, value in all_df_by_day.items():\n",
    "    print(f'{key} - {value.shape}, length (days): {value.total_dur.sum() / 86400}')"
   ]
  },
  {
   "cell_type": "code",
   "execution_count": 31,
   "id": "f49087fc-38ef-49a6-b00d-66595968526d",
   "metadata": {},
   "outputs": [
    {
     "data": {
      "text/plain": [
       "<Figure size 640x480 with 0 Axes>"
      ]
     },
     "metadata": {},
     "output_type": "display_data"
    }
   ],
   "source": [
    "if not os.path.exists('./figures/watched_pct'):\n",
    "    os.mkdir('./figures/watched_pct')\n",
    "\n",
    "for day_index in all_df_by_day:\n",
    "    sns.histplot(all_df_by_day[day_index], x=\"watched_pct\", kde=True, bins=100)\n",
    "    plt.title(f\"Распределение watched_pct в {index_to_day[day_index]}\")\n",
    "    plt.savefig(f'./figures/watched_pct/watched_pct_{index_to_day[day_index]}.jpg')\n",
    "    plt.clf()"
   ]
  },
  {
   "cell_type": "code",
   "execution_count": 32,
   "id": "91bf7d2e",
   "metadata": {},
   "outputs": [
    {
     "name": "stdout",
     "output_type": "stream",
     "text": [
      "Std (Понедельник) - 42.35176817329457\n",
      "Std (Втоник) - 42.21404245152328\n",
      "Std (Среда) - 42.22646265414596\n",
      "Std (Четверг) - 42.20239285066259\n",
      "Std (Пятница) - 42.24287775159513\n",
      "Std (Суббота) - 42.328787821785774\n",
      "Std (Воскресенье) - 42.32462536526485\n"
     ]
    }
   ],
   "source": [
    "for day_index, day_data in all_df_by_day.items():\n",
    "    print(f'Std ({index_to_day[day_index]}) - {day_data.watched_pct.std()}')"
   ]
  }
 ],
 "metadata": {
  "kernelspec": {
   "display_name": "Python 3 (ipykernel)",
   "language": "python",
   "name": "python3"
  },
  "language_info": {
   "codemirror_mode": {
    "name": "ipython",
    "version": 3
   },
   "file_extension": ".py",
   "mimetype": "text/x-python",
   "name": "python",
   "nbconvert_exporter": "python",
   "pygments_lexer": "ipython3",
   "version": "3.12.1"
  }
 },
 "nbformat": 4,
 "nbformat_minor": 5
}
