{
 "cells": [
  {
   "cell_type": "code",
   "execution_count": 9,
   "id": "5ecd6f09",
   "metadata": {},
   "outputs": [],
   "source": [
    "import pandas as pd\n",
    "import statsmodels.api as sm\n",
    "from sklearn.model_selection import train_test_split\n",
    "from sklearn.tree import DecisionTreeClassifier\n",
    "from sklearn.ensemble import RandomForestClassifier\n",
    "from sklearn.preprocessing import OneHotEncoder\n",
    "from sklearn.metrics import accuracy_score"
   ]
  },
  {
   "cell_type": "markdown",
   "id": "e1d75731",
   "metadata": {},
   "source": [
    "df_budni_kids_w и df_off_kids_w   - будни и выходные с детьми (53к)\n",
    "\n",
    "df_budni_no_kids_w и df_off_no_kids_w  - будни и выходные с не_детьми (100к)"
   ]
  },
  {
   "cell_type": "code",
   "execution_count": 10,
   "id": "9f530e91",
   "metadata": {},
   "outputs": [],
   "source": [
    "datasets_path: str = '../datasets/'"
   ]
  },
  {
   "cell_type": "code",
   "execution_count": 11,
   "id": "c4b2814a",
   "metadata": {},
   "outputs": [],
   "source": [
    "df_budni_kids_w: pd.DataFrame = pd.read_excel(datasets_path + 'week_days_kids.xlsx')\n",
    "df_off_kids_w: pd.DataFrame = pd.read_excel(datasets_path + 'weekends_kids.xlsx')\n",
    "df_budni_no_kids_w: pd.DataFrame = pd.read_excel(datasets_path + 'week_days_no_kids.xlsx')\n",
    "df_off_no_kids_w: pd.DataFrame = pd.read_excel(datasets_path + 'weekends_no_kids.xlsx')"
   ]
  },
  {
   "cell_type": "code",
   "execution_count": 12,
   "id": "1d50851c",
   "metadata": {},
   "outputs": [],
   "source": [
    "df_no_kids: pd.DataFrame = pd.concat([df_budni_no_kids_w, df_off_no_kids_w])\n",
    "df_with_kids: pd.DataFrame = pd.concat([df_budni_kids_w, df_off_kids_w])\n",
    "\n",
    "all_df: pd.DataFrame = pd.concat([df_no_kids, df_with_kids])"
   ]
  },
  {
   "cell_type": "code",
   "execution_count": 13,
   "id": "a5c7bb0d",
   "metadata": {},
   "outputs": [
    {
     "name": "stderr",
     "output_type": "stream",
     "text": [
      "/home/nikita/Desktop/kion/.venv/lib/python3.11/site-packages/sklearn/preprocessing/_encoders.py:975: FutureWarning: `sparse` was renamed to `sparse_output` in version 1.2 and will be removed in 1.4. `sparse_output` is ignored unless you leave `sparse` to its default value.\n",
      "  warnings.warn(\n"
     ]
    }
   ],
   "source": [
    "ohe: OneHotEncoder = OneHotEncoder(sparse=False)\n",
    "ohe.fit(all_df[['age']])\n",
    "ohe_age = ohe.transform(all_df[['age']])\n",
    "ohe.get_feature_names_out()\n",
    "all_df[ohe.get_feature_names_out()] = ohe_age"
   ]
  },
  {
   "cell_type": "code",
   "execution_count": 14,
   "id": "a6c9d976",
   "metadata": {},
   "outputs": [
    {
     "name": "stderr",
     "output_type": "stream",
     "text": [
      "/home/nikita/Desktop/kion/.venv/lib/python3.11/site-packages/sklearn/preprocessing/_encoders.py:975: FutureWarning: `sparse` was renamed to `sparse_output` in version 1.2 and will be removed in 1.4. `sparse_output` is ignored unless you leave `sparse` to its default value.\n",
      "  warnings.warn(\n"
     ]
    }
   ],
   "source": [
    "ohe: OneHotEncoder = OneHotEncoder(sparse=False)\n",
    "ohe.fit(all_df[['sex']])\n",
    "ohe_sex = ohe.transform(all_df[['sex']])\n",
    "ohe.get_feature_names_out()\n",
    "all_df[ohe.get_feature_names_out()] = ohe_sex"
   ]
  },
  {
   "cell_type": "code",
   "execution_count": 28,
   "id": "611d29d9",
   "metadata": {},
   "outputs": [],
   "source": [
    "a: pd.DataFrame = all_df\n",
    "x: pd.DataFrame = a.drop(['income', 'sex', 'age', 'age_nan', 'sex_nan', 'total_dur', 'Unnamed: 0.1'], axis=1)"
   ]
  },
  {
   "cell_type": "markdown",
   "id": "2751fd24",
   "metadata": {},
   "source": [
    "# Случайный лес"
   ]
  },
  {
   "cell_type": "code",
   "execution_count": 29,
   "id": "d99c9775",
   "metadata": {},
   "outputs": [],
   "source": [
    "train, test = train_test_split(x.user_id.values.tolist(), test_size=0.3, random_state=42)\n",
    "\n",
    "x_train: pd.DataFrame = x[x.user_id.isin(train)].drop(['user_id'], axis = 1)\n",
    "x_test: pd.DataFrame = x[x.user_id.isin(test)].drop(['user_id'], axis = 1)"
   ]
  },
  {
   "cell_type": "code",
   "execution_count": 17,
   "id": "ef9a4b9c",
   "metadata": {},
   "outputs": [
    {
     "data": {
      "text/html": [
       "<style>#sk-container-id-1 {color: black;}#sk-container-id-1 pre{padding: 0;}#sk-container-id-1 div.sk-toggleable {background-color: white;}#sk-container-id-1 label.sk-toggleable__label {cursor: pointer;display: block;width: 100%;margin-bottom: 0;padding: 0.3em;box-sizing: border-box;text-align: center;}#sk-container-id-1 label.sk-toggleable__label-arrow:before {content: \"▸\";float: left;margin-right: 0.25em;color: #696969;}#sk-container-id-1 label.sk-toggleable__label-arrow:hover:before {color: black;}#sk-container-id-1 div.sk-estimator:hover label.sk-toggleable__label-arrow:before {color: black;}#sk-container-id-1 div.sk-toggleable__content {max-height: 0;max-width: 0;overflow: hidden;text-align: left;background-color: #f0f8ff;}#sk-container-id-1 div.sk-toggleable__content pre {margin: 0.2em;color: black;border-radius: 0.25em;background-color: #f0f8ff;}#sk-container-id-1 input.sk-toggleable__control:checked~div.sk-toggleable__content {max-height: 200px;max-width: 100%;overflow: auto;}#sk-container-id-1 input.sk-toggleable__control:checked~label.sk-toggleable__label-arrow:before {content: \"▾\";}#sk-container-id-1 div.sk-estimator input.sk-toggleable__control:checked~label.sk-toggleable__label {background-color: #d4ebff;}#sk-container-id-1 div.sk-label input.sk-toggleable__control:checked~label.sk-toggleable__label {background-color: #d4ebff;}#sk-container-id-1 input.sk-hidden--visually {border: 0;clip: rect(1px 1px 1px 1px);clip: rect(1px, 1px, 1px, 1px);height: 1px;margin: -1px;overflow: hidden;padding: 0;position: absolute;width: 1px;}#sk-container-id-1 div.sk-estimator {font-family: monospace;background-color: #f0f8ff;border: 1px dotted black;border-radius: 0.25em;box-sizing: border-box;margin-bottom: 0.5em;}#sk-container-id-1 div.sk-estimator:hover {background-color: #d4ebff;}#sk-container-id-1 div.sk-parallel-item::after {content: \"\";width: 100%;border-bottom: 1px solid gray;flex-grow: 1;}#sk-container-id-1 div.sk-label:hover label.sk-toggleable__label {background-color: #d4ebff;}#sk-container-id-1 div.sk-serial::before {content: \"\";position: absolute;border-left: 1px solid gray;box-sizing: border-box;top: 0;bottom: 0;left: 50%;z-index: 0;}#sk-container-id-1 div.sk-serial {display: flex;flex-direction: column;align-items: center;background-color: white;padding-right: 0.2em;padding-left: 0.2em;position: relative;}#sk-container-id-1 div.sk-item {position: relative;z-index: 1;}#sk-container-id-1 div.sk-parallel {display: flex;align-items: stretch;justify-content: center;background-color: white;position: relative;}#sk-container-id-1 div.sk-item::before, #sk-container-id-1 div.sk-parallel-item::before {content: \"\";position: absolute;border-left: 1px solid gray;box-sizing: border-box;top: 0;bottom: 0;left: 50%;z-index: -1;}#sk-container-id-1 div.sk-parallel-item {display: flex;flex-direction: column;z-index: 1;position: relative;background-color: white;}#sk-container-id-1 div.sk-parallel-item:first-child::after {align-self: flex-end;width: 50%;}#sk-container-id-1 div.sk-parallel-item:last-child::after {align-self: flex-start;width: 50%;}#sk-container-id-1 div.sk-parallel-item:only-child::after {width: 0;}#sk-container-id-1 div.sk-dashed-wrapped {border: 1px dashed gray;margin: 0 0.4em 0.5em 0.4em;box-sizing: border-box;padding-bottom: 0.4em;background-color: white;}#sk-container-id-1 div.sk-label label {font-family: monospace;font-weight: bold;display: inline-block;line-height: 1.2em;}#sk-container-id-1 div.sk-label-container {text-align: center;}#sk-container-id-1 div.sk-container {/* jupyter's `normalize.less` sets `[hidden] { display: none; }` but bootstrap.min.css set `[hidden] { display: none !important; }` so we also need the `!important` here to be able to override the default hidden behavior on the sphinx rendered scikit-learn.org. See: https://github.com/scikit-learn/scikit-learn/issues/21755 */display: inline-block !important;position: relative;}#sk-container-id-1 div.sk-text-repr-fallback {display: none;}</style><div id=\"sk-container-id-1\" class=\"sk-top-container\"><div class=\"sk-text-repr-fallback\"><pre>RandomForestClassifier(max_features=&#x27;log2&#x27;, n_estimators=200)</pre><b>In a Jupyter environment, please rerun this cell to show the HTML representation or trust the notebook. <br />On GitHub, the HTML representation is unable to render, please try loading this page with nbviewer.org.</b></div><div class=\"sk-container\" hidden><div class=\"sk-item\"><div class=\"sk-estimator sk-toggleable\"><input class=\"sk-toggleable__control sk-hidden--visually\" id=\"sk-estimator-id-1\" type=\"checkbox\" checked><label for=\"sk-estimator-id-1\" class=\"sk-toggleable__label sk-toggleable__label-arrow\">RandomForestClassifier</label><div class=\"sk-toggleable__content\"><pre>RandomForestClassifier(max_features=&#x27;log2&#x27;, n_estimators=200)</pre></div></div></div></div></div>"
      ],
      "text/plain": [
       "RandomForestClassifier(max_features='log2', n_estimators=200)"
      ]
     },
     "execution_count": 17,
     "metadata": {},
     "output_type": "execute_result"
    }
   ],
   "source": [
    "rt_clf: RandomForestClassifier = RandomForestClassifier(max_features='log2', min_samples_leaf=1, n_estimators=200)\n",
    "\n",
    "\n",
    "rt_clf.fit(x_train.drop(['kids_flg'],axis=1), x_train.kids_flg)"
   ]
  },
  {
   "cell_type": "code",
   "execution_count": 18,
   "id": "b4189e22",
   "metadata": {},
   "outputs": [
    {
     "name": "stdout",
     "output_type": "stream",
     "text": [
      "0.747158927233969\n"
     ]
    }
   ],
   "source": [
    "predicted_train_clf = rt_clf.predict(x_train.drop(['kids_flg'],axis=1))\n",
    "print(accuracy_score(x_train.kids_flg, predicted_train_clf))"
   ]
  },
  {
   "cell_type": "code",
   "execution_count": 19,
   "id": "92960780",
   "metadata": {},
   "outputs": [],
   "source": [
    "predicted_test_rf = rt_clf.predict(x_test.drop(['kids_flg'],axis=1))"
   ]
  },
  {
   "cell_type": "code",
   "execution_count": 20,
   "id": "9950405e",
   "metadata": {},
   "outputs": [
    {
     "name": "stdout",
     "output_type": "stream",
     "text": [
      "0.747158927233969\n",
      "0.7292218479183274\n"
     ]
    }
   ],
   "source": [
    "print(accuracy_score(x_train.kids_flg, predicted_train_clf))\n",
    "print(accuracy_score(x_test.kids_flg, predicted_test_rf))"
   ]
  },
  {
   "cell_type": "markdown",
   "id": "81aca00e",
   "metadata": {},
   "source": [
    "# Дерево решений\n"
   ]
  },
  {
   "cell_type": "code",
   "execution_count": 23,
   "id": "bd74ce2c",
   "metadata": {},
   "outputs": [],
   "source": [
    "clf: DecisionTreeClassifier = DecisionTreeClassifier()\n",
    "clf.fit(x_train.drop(['kids_flg'],axis=1), x_train.kids_flg)\n",
    "\n",
    "# Делаем предсказания на основе обучения\n",
    "predicted_train = clf.predict(x_train.drop(['kids_flg'],axis=1))\n",
    "predicted_test = clf.predict(x_test.drop(['kids_flg'],axis=1))"
   ]
  },
  {
   "cell_type": "code",
   "execution_count": 26,
   "id": "5ec7a199",
   "metadata": {
    "collapsed": true
   },
   "outputs": [
    {
     "name": "stdout",
     "output_type": "stream",
     "text": [
      "0.7471661289393329\n",
      "0.7281932265281457\n"
     ]
    }
   ],
   "source": [
    "print(accuracy_score(x_train.kids_flg, predicted_train))\n",
    "print(accuracy_score(x_test.kids_flg, predicted_test))"
   ]
  }
 ],
 "metadata": {
  "kernelspec": {
   "display_name": "Python 3 (ipykernel)",
   "language": "python",
   "name": "python3"
  },
  "language_info": {
   "codemirror_mode": {
    "name": "ipython",
    "version": 3
   },
   "file_extension": ".py",
   "mimetype": "text/x-python",
   "name": "python",
   "nbconvert_exporter": "python",
   "pygments_lexer": "ipython3",
   "version": "3.11.2"
  }
 },
 "nbformat": 4,
 "nbformat_minor": 5
}
